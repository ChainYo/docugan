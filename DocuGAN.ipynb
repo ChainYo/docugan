{
 "cells": [
  {
   "cell_type": "code",
   "execution_count": 1,
   "metadata": {},
   "outputs": [],
   "source": [
    "import os\n",
    "\n",
    "from typing import Dict, List, Optional, OrderedDict, Tuple\n",
    "\n",
    "from datasets import load_dataset\n",
    "\n",
    "import pytorch_lightning as pl\n",
    "from pytorch_lightning.loggers import TensorBoardLogger, WandbLogger\n",
    "from pytorch_lightning.utilities.seed import seed_everything\n",
    "\n",
    "import torch\n",
    "import torch.nn as nn\n",
    "\n",
    "from torchvision import transforms\n",
    "from torchvision.utils import save_image\n"
   ]
  },
  {
   "cell_type": "code",
   "execution_count": 2,
   "metadata": {},
   "outputs": [],
   "source": [
    "ALL_IMAGES = []\n",
    "\n",
    "img_size = 64\n",
    "batch_size = 512\n",
    "normalize = [(0.5), (0.5)]\n",
    "latent_size = 128\n",
    "data_dir = \"ChainYo/rvl-cdip-invoice\""
   ]
  },
  {
   "cell_type": "code",
   "execution_count": 3,
   "metadata": {},
   "outputs": [],
   "source": [
    "transforms = transforms.Compose(\n",
    "    [\n",
    "        transforms.Resize(img_size), \n",
    "        transforms.CenterCrop(img_size), \n",
    "        transforms.ToTensor(), \n",
    "        # transforms.Normalize(*normalize)\n",
    "    ]\n",
    ")"
   ]
  },
  {
   "cell_type": "code",
   "execution_count": 4,
   "metadata": {},
   "outputs": [
    {
     "name": "stderr",
     "output_type": "stream",
     "text": [
      "Using custom data configuration ChainYo--rvl-cdip-invoice-e89502dfe52b2353\n",
      "Reusing dataset parquet (/home/chainyo/.cache/huggingface/datasets/parquet/ChainYo--rvl-cdip-invoice-e89502dfe52b2353/0.0.0/0b6d5799bb726b24ad7fc7be720c170d8e497f575d02d47537de9a5bac074901)\n"
     ]
    },
    {
     "name": "stdout",
     "output_type": "stream",
     "text": [
      "Dataset({\n",
      "    features: ['image', 'label'],\n",
      "    num_rows: 19947\n",
      "})\n"
     ]
    }
   ],
   "source": [
    "dataset = load_dataset(data_dir, split=\"train\")\n",
    "print(dataset)\n",
    "\n",
    "labels = dataset.features[\"label\"].names\n",
    "num_labels = dataset.features[\"label\"].num_classes\n",
    "\n",
    "\n",
    "def preprocess_data(examples):\n",
    "    examples[\"tr_image\"] = [transforms(img) for img in examples[\"image\"]]\n",
    "    del examples[\"image\"]\n",
    "    return examples\n",
    "\n",
    "\n",
    "transformed_dataset = dataset.with_transform(preprocess_data)\n"
   ]
  },
  {
   "cell_type": "code",
   "execution_count": 5,
   "metadata": {},
   "outputs": [],
   "source": [
    "train_dataloader = torch.utils.data.DataLoader(\n",
    "    transformed_dataset, batch_size=batch_size, shuffle=True, num_workers=4, pin_memory=True\n",
    ")"
   ]
  },
  {
   "cell_type": "code",
   "execution_count": 6,
   "metadata": {},
   "outputs": [],
   "source": [
    "def denormalize(input_image_tensors: torch.Tensor) -> torch.Tensor:\n",
    "    \"\"\"\n",
    "    Denormalizes the input image tensors.\n",
    "\n",
    "    Parameters\n",
    "    ----------\n",
    "    input_image_tensors : torch.Tensor\n",
    "        The input image tensors.\n",
    "    \n",
    "    Returns\n",
    "    -------\n",
    "    torch.Tensor\n",
    "        The denormalized image tensors.\n",
    "    \"\"\"\n",
    "    return input_image_tensors.mul(normalize[1]).add(normalize[0])\n",
    "\n",
    "\n",
    "def save_samples(index: int, sample_images: torch.Tensor) -> None:\n",
    "    \"\"\"\n",
    "    Saves the generated samples.\n",
    "\n",
    "    Parameters\n",
    "    ----------\n",
    "    index : int\n",
    "        The index of the sample.\n",
    "    sample_images : torch.Tensor\n",
    "        The generated sample images.\n",
    "    \"\"\"\n",
    "    fake_name = f\"generated-images-{index}.png\"\n",
    "    # save_image(denormalize(sample_images[-64:]), os.path.join(\"generated\", fake_name), nrow=8)\n",
    "    save_image(sample_images[-64:], os.path.join(\"generated\", fake_name), nrow=8)"
   ]
  },
  {
   "cell_type": "code",
   "execution_count": 7,
   "metadata": {},
   "outputs": [],
   "source": [
    "class Discriminator(nn.Module):\n",
    "    def __init__(\n",
    "        self,\n",
    "        hidden_size: Optional[int] = 64,\n",
    "        channels: Optional[int] = 3,\n",
    "        kernel_size: Optional[int] = 4,\n",
    "        stride: Optional[int] = 2,\n",
    "        padding: Optional[int] = 1,\n",
    "        negative_slope: Optional[float] = 0.2,\n",
    "        bias: Optional[bool] = False,\n",
    "    ):\n",
    "        \"\"\"\n",
    "        Initializes the discriminator.\n",
    "\n",
    "        Parameters\n",
    "        ----------\n",
    "        hidden_size : int, optional\n",
    "            The input size. (the default is 64)\n",
    "        channels : int, optional\n",
    "            The number of channels. (default: 3)\n",
    "        kernel_size : int, optional\n",
    "            The kernal size. (default: 4)\n",
    "        stride : int, optional\n",
    "            The stride. (default: 2)\n",
    "        padding : int, optional\n",
    "            The padding. (default: 1)\n",
    "        negative_slope : float, optional\n",
    "            The negative slope. (default: 0.2)\n",
    "        bias : bool, optional\n",
    "            Whether to use bias. (default: False)\n",
    "        \"\"\"\n",
    "        super().__init__()\n",
    "        self.hidden_size = hidden_size\n",
    "        self.channels = channels\n",
    "        self.kernel_size = kernel_size\n",
    "        self.stride = stride\n",
    "        self.padding = padding\n",
    "        self.negative_slope = negative_slope\n",
    "        self.bias = bias\n",
    "\n",
    "        self.model = nn.Sequential(\n",
    "            # input size: (channels, 64, 64)\n",
    "            nn.utils.spectral_norm(\n",
    "                nn.Conv2d(\n",
    "                    self.channels, self.hidden_size, \n",
    "                    kernel_size=self.kernel_size, stride=self.stride, padding=self.padding, bias=self.bias\n",
    "                ),\n",
    "            ),\n",
    "            nn.BatchNorm2d(self.hidden_size),\n",
    "            nn.LeakyReLU(self.negative_slope, inplace=True),\n",
    "\n",
    "            # input size: (hidden_size, 32, 32)\n",
    "            nn.utils.spectral_norm(\n",
    "                nn.Conv2d(\n",
    "                    hidden_size, hidden_size * 2, \n",
    "                    kernel_size=self.kernel_size, stride=self.stride, padding=self.padding, bias=self.bias\n",
    "                ),\n",
    "            ),\n",
    "            nn.BatchNorm2d(hidden_size * 2),\n",
    "            nn.LeakyReLU(self.negative_slope, inplace=True),\n",
    "\n",
    "            # input size: (hidden_size * 2, 16, 16)\n",
    "            nn.utils.spectral_norm(\n",
    "                nn.Conv2d(\n",
    "                    hidden_size * 2, hidden_size * 4,\n",
    "                    kernel_size=self.kernel_size, stride=self.stride, padding=self.padding, bias=self.bias\n",
    "                ),\n",
    "            ),\n",
    "            nn.BatchNorm2d(hidden_size * 4),\n",
    "            nn.LeakyReLU(self.negative_slope, inplace=True),\n",
    "\n",
    "            # input size: (hidden_size * 4, 8, 8)\n",
    "            nn.utils.spectral_norm(\n",
    "                nn.Conv2d(\n",
    "                    hidden_size * 4, hidden_size * 8, \n",
    "                    kernel_size=self.kernel_size, stride=self.stride, padding=self.padding, bias=self.bias\n",
    "                ),\n",
    "            ),\n",
    "            nn.BatchNorm2d(hidden_size * 8),\n",
    "            nn.LeakyReLU(self.negative_slope, inplace=True),\n",
    "\n",
    "            # input size: (hidden_size * 8, 4, 4)\n",
    "            nn.utils.spectral_norm(\n",
    "                nn.Conv2d(hidden_size * 8, 1, kernel_size=4, stride=1, padding=0, bias=self.bias), # output size: (1, 1, 1)\n",
    "            ),\n",
    "            nn.Flatten(),\n",
    "            nn.Sigmoid(),\n",
    "        )\n",
    "\n",
    "    \n",
    "    def forward(self, input_img: torch.Tensor) -> torch.Tensor:\n",
    "        \"\"\"\n",
    "        Forward propagation.\n",
    "\n",
    "        Parameters\n",
    "        ----------\n",
    "        input_img : torch.Tensor\n",
    "            The input image.\n",
    "\n",
    "        Returns\n",
    "        -------\n",
    "        torch.Tensor\n",
    "            The output.\n",
    "        \"\"\"\n",
    "        logits = self.model(input_img)\n",
    "        return logits"
   ]
  },
  {
   "cell_type": "code",
   "execution_count": 8,
   "metadata": {},
   "outputs": [],
   "source": [
    "class Generator(nn.Module):\n",
    "    def __init__(\n",
    "        self,\n",
    "        hidden_size: Optional[int] = 64,\n",
    "        latent_size: Optional[int] = 128,\n",
    "        channels: Optional[int] = 3,\n",
    "        kernel_size: Optional[int] = 4,\n",
    "        stride: Optional[int] = 2,\n",
    "        padding: Optional[int] = 1,\n",
    "        bias: Optional[bool] = False,\n",
    "    ):\n",
    "        \"\"\"\n",
    "        Initializes the generator.\n",
    "\n",
    "        Parameters\n",
    "        ----------\n",
    "        hidden_size : int, optional\n",
    "            The hidden size. (default: 64)\n",
    "        latent_size : int, optional\n",
    "            The latent size. (default: 128)\n",
    "        channels : int, optional\n",
    "            The number of channels. (default: 3)\n",
    "        kernel_size : int, optional\n",
    "            The kernel size. (default: 4)\n",
    "        stride : int, optional\n",
    "            The stride. (default: 2)\n",
    "        padding : int, optional\n",
    "            The padding. (default: 1)\n",
    "        bias : bool, optional\n",
    "            Whether to use bias. (default: False)\n",
    "        \"\"\"\n",
    "        super().__init__()\n",
    "        self.hidden_size = hidden_size\n",
    "        self.latent_size = latent_size\n",
    "        self.channels = channels\n",
    "        self.kernel_size = kernel_size\n",
    "        self.stride = stride\n",
    "        self.padding = padding\n",
    "        self.bias = bias\n",
    "\n",
    "        self.model = nn.Sequential(\n",
    "            # input size: (latent_size=128, 1, 1)\n",
    "            nn.ConvTranspose2d(\n",
    "                self.latent_size, self.hidden_size * 8, \n",
    "                kernel_size=self.kernel_size, stride=1, padding=0, bias=self.bias\n",
    "            ),\n",
    "            nn.BatchNorm2d(self.hidden_size * 8),\n",
    "            nn.ReLU(inplace=True),\n",
    "\n",
    "            # input size: (hidden_size * 8, 4, 4)\n",
    "            nn.ConvTranspose2d(\n",
    "                self.hidden_size * 8, self.hidden_size * 4, \n",
    "                kernel_size=self.kernel_size, stride=self.stride, padding=self.padding, bias=self.bias\n",
    "            ),\n",
    "            nn.BatchNorm2d(self.hidden_size * 4),\n",
    "            nn.ReLU(inplace=True),\n",
    "\n",
    "            # input size: (hidden_size * 4, 8, 8)\n",
    "            nn.ConvTranspose2d(\n",
    "                self.hidden_size * 4, self.hidden_size * 2, \n",
    "                kernel_size=self.kernel_size, stride=self.stride, padding=self.padding, bias=self.bias\n",
    "            ),\n",
    "            nn.BatchNorm2d(self.hidden_size * 2),\n",
    "            nn.ReLU(inplace=True),\n",
    "\n",
    "            # input size: (self.hidden_size * 2, 16, 16)\n",
    "            nn.ConvTranspose2d(\n",
    "                self.hidden_size * 2, self.hidden_size, \n",
    "                kernel_size=self.kernel_size, stride=self.stride, padding=self.padding, bias=self.bias\n",
    "            ),\n",
    "            nn.BatchNorm2d(self.hidden_size),\n",
    "            nn.ReLU(inplace=True),\n",
    "\n",
    "            # input size: (64, 32, 32)\n",
    "            nn.ConvTranspose2d(\n",
    "                self.hidden_size, self.channels, \n",
    "                kernel_size=self.kernel_size, stride=self.stride, padding=self.padding, bias=self.bias\n",
    "            ),\n",
    "            nn.Tanh() # output size: (channels, 64, 64)\n",
    "        )\n",
    "\n",
    "    \n",
    "    def forward(self, input_noise: torch.Tensor) -> torch.Tensor:\n",
    "        \"\"\"\n",
    "        Forward propagation.\n",
    "\n",
    "        Parameters\n",
    "        ----------\n",
    "        input_noise : torch.Tensor\n",
    "            The input image.\n",
    "\n",
    "        Returns\n",
    "        -------\n",
    "        torch.Tensor\n",
    "            The output.\n",
    "        \"\"\"\n",
    "        fake_img = self.model(input_noise)\n",
    "        return fake_img"
   ]
  },
  {
   "cell_type": "code",
   "execution_count": 9,
   "metadata": {},
   "outputs": [],
   "source": [
    "class DocuGAN(pl.LightningModule):\n",
    "    def __init__(\n",
    "        self,\n",
    "        hidden_size: Optional[int] = 64,\n",
    "        latent_size: Optional[int] = 128,\n",
    "        num_channel: Optional[int] = 3,\n",
    "        learning_rate: Optional[float] = 0.0002,\n",
    "        batch_size: Optional[int] = 128,\n",
    "        bias1: Optional[float] = 0.5,\n",
    "        bias2: Optional[float] = 0.999,\n",
    "    ):\n",
    "        \"\"\"\n",
    "        Initializes the LightningGan.\n",
    "\n",
    "        Parameters\n",
    "        ----------\n",
    "        hidden_size : int, optional\n",
    "            The hidden size. (default: 64)\n",
    "        latent_size : int, optional\n",
    "            The latent size. (default: 128)\n",
    "        num_channel : int, optional\n",
    "            The number of channels. (default: 3)\n",
    "        learning_rate : float, optional\n",
    "            The learning rate. (default: 0.0002)\n",
    "        batch_size : int, optional\n",
    "            The batch size. (default: 128)\n",
    "        bias1 : float, optional\n",
    "            The bias1. (default: 0.5)\n",
    "        bias2 : float, optional\n",
    "            The bias2. (default: 0.999)\n",
    "        \"\"\"\n",
    "        super().__init__()\n",
    "        self.hidden_size = hidden_size\n",
    "        self.latent_size = latent_size\n",
    "        self.num_channel = num_channel\n",
    "        self.learning_rate = learning_rate\n",
    "        self.batch_size = batch_size\n",
    "        self.bias1 = bias1\n",
    "        self.bias2 = bias2\n",
    "        self.criterion = nn.BCELoss()\n",
    "        self.validation = torch.randn(self.batch_size, self.latent_size, 1, 1)\n",
    "        self.save_hyperparameters()\n",
    "\n",
    "        self.generator = Generator(\n",
    "            latent_size=self.latent_size, channels=self.num_channel, hidden_size=self.hidden_size\n",
    "        )\n",
    "        self.generator.apply(self.weights_init)\n",
    "        \n",
    "        self.discriminator = Discriminator(channels=self.num_channel, hidden_size=self.hidden_size)\n",
    "        self.discriminator.apply(self.weights_init)\n",
    "\n",
    "        # self.model = InceptionV3() # For FID metric\n",
    "\n",
    "\n",
    "    def weights_init(self, m: nn.Module) -> None:\n",
    "        \"\"\"\n",
    "        Initializes the weights.\n",
    "\n",
    "        Parameters\n",
    "        ----------\n",
    "        m : nn.Module\n",
    "            The module.\n",
    "        \"\"\"\n",
    "        classname = m.__class__.__name__\n",
    "        if classname.find(\"Conv\") != -1:\n",
    "            nn.init.normal_(m.weight.data, 0.0, 0.02)\n",
    "        elif classname.find(\"BatchNorm\") != -1:\n",
    "            nn.init.normal_(m.weight.data, 1.0, 0.02)\n",
    "            nn.init.constant_(m.bias.data, 0)\n",
    "\n",
    "    \n",
    "    def configure_optimizers(self) -> Tuple[List[torch.optim.Optimizer], List]:\n",
    "        \"\"\"\n",
    "        Configures the optimizers.\n",
    "\n",
    "        Returns\n",
    "        -------\n",
    "        Tuple[List[torch.optim.Optimizer], List]\n",
    "            The optimizers and the LR schedulers.\n",
    "        \"\"\"\n",
    "        opt_generator = torch.optim.Adam(\n",
    "            self.generator.parameters(), lr=self.learning_rate, betas=(self.bias1, self.bias2)\n",
    "        )\n",
    "        opt_discriminator = torch.optim.Adam(\n",
    "            self.discriminator.parameters(), lr=self.learning_rate, betas=(self.bias1, self.bias2)\n",
    "        )\n",
    "        return [opt_generator, opt_discriminator], []\n",
    "\n",
    "    \n",
    "    def forward(self, z: torch.Tensor) -> torch.Tensor:\n",
    "        \"\"\"\n",
    "        Forward propagation.\n",
    "\n",
    "        Parameters\n",
    "        ----------\n",
    "        z : torch.Tensorh\n",
    "            The latent vector.\n",
    "\n",
    "        Returns\n",
    "        -------\n",
    "        torch.Tensor\n",
    "            The output.\n",
    "        \"\"\"\n",
    "        return self.generator(z)\n",
    "\n",
    "    \n",
    "    def training_step(\n",
    "        self, batch: Tuple[torch.Tensor, torch.Tensor], batch_idx: int, optimizer_idx: int\n",
    "    ) -> Dict:\n",
    "        \"\"\"\n",
    "        Training step.\n",
    "\n",
    "        Parameters\n",
    "        ----------\n",
    "        batch : Tuple[torch.Tensor, torch.Tensor]\n",
    "            The batch.\n",
    "        batch_idx : int\n",
    "            The batch index.\n",
    "        optimizer_idx : int\n",
    "            The optimizer index.\n",
    "\n",
    "        Returns\n",
    "        -------\n",
    "        Dict\n",
    "            The training loss.\n",
    "        \"\"\"\n",
    "        real_images = batch[\"tr_image\"]\n",
    "\n",
    "        if optimizer_idx == 0: # Only train the generator\n",
    "            fake_random_noise = torch.randn(self.batch_size, self.latent_size, 1, 1)\n",
    "            fake_random_noise = fake_random_noise.type_as(real_images)\n",
    "            fake_images = self(fake_random_noise)\n",
    "\n",
    "            # Try to fool the discriminator\n",
    "            preds = self.discriminator(fake_images)\n",
    "            loss = self.criterion(preds, torch.ones_like(preds))\n",
    "            self.log(\"g_loss\", loss, on_step=False, on_epoch=True)\n",
    "\n",
    "            tqdm_dict = {\"g_loss\": loss}\n",
    "            output = OrderedDict({\"loss\": loss, \"progress_bar\": tqdm_dict, \"log\": tqdm_dict})\n",
    "            return output\n",
    "\n",
    "        elif optimizer_idx == 1: # Only train the discriminator\n",
    "            real_preds = self.discriminator(real_images)\n",
    "            real_loss = self.criterion(real_preds, torch.ones_like(real_preds))\n",
    "\n",
    "            # Generate fake images\n",
    "            real_random_noise = torch.randn(self.batch_size, self.latent_size, 1, 1)\n",
    "            real_random_noise = real_random_noise.type_as(real_images)\n",
    "            fake_images = self(real_random_noise)\n",
    "\n",
    "            # Pass fake images though discriminator\n",
    "            fake_preds = self.discriminator(fake_images)\n",
    "            fake_loss = self.criterion(fake_preds, torch.zeros_like(fake_preds))\n",
    "\n",
    "            # Update discriminator weights\n",
    "            loss = real_loss + fake_loss\n",
    "            self.log(\"d_loss\", loss, on_step=False, on_epoch=True)\n",
    "\n",
    "            tqdm_dict = {\"d_loss\": loss}\n",
    "            output = OrderedDict({\"loss\": loss, \"progress_bar\": tqdm_dict, \"log\": tqdm_dict})\n",
    "            return output\n",
    "\n",
    "    \n",
    "    def on_epoch_end(self):\n",
    "        \"\"\"\n",
    "        Called at the end of an epoch.\n",
    "        \"\"\"\n",
    "        z = self.validation.type_as(self.generator.model[0].weight)\n",
    "        sample_images = self(z)\n",
    "        ALL_IMAGES.append(sample_images.detach().cpu())\n",
    "        save_samples(self.current_epoch, sample_images)\n",
    "        self.logger[1].log_image(key=f\"images-epoch{self.current_epoch}\", images=[sample_images])"
   ]
  },
  {
   "cell_type": "code",
   "execution_count": 10,
   "metadata": {},
   "outputs": [
    {
     "name": "stderr",
     "output_type": "stream",
     "text": [
      "Global seed set to 42\n",
      "Failed to detect the name of this notebook, you can set it manually with the WANDB_NOTEBOOK_NAME environment variable to enable code saving.\n",
      "\u001b[34m\u001b[1mwandb\u001b[0m: Currently logged in as: \u001b[33mchainyo-mleng\u001b[0m (use `wandb login --relogin` to force relogin)\n"
     ]
    },
    {
     "data": {
      "text/html": [
       "wandb version 0.12.14 is available!  To upgrade, please run:\n",
       " $ pip install wandb --upgrade"
      ],
      "text/plain": [
       "<IPython.core.display.HTML object>"
      ]
     },
     "metadata": {},
     "output_type": "display_data"
    },
    {
     "data": {
      "text/html": [
       "Tracking run with wandb version 0.12.11"
      ],
      "text/plain": [
       "<IPython.core.display.HTML object>"
      ]
     },
     "metadata": {},
     "output_type": "display_data"
    },
    {
     "data": {
      "text/html": [
       "Run data is saved locally in <code>/home/chainyo/code/docugan/wandb/run-20220410_211420-22s6fomg</code>"
      ],
      "text/plain": [
       "<IPython.core.display.HTML object>"
      ]
     },
     "metadata": {},
     "output_type": "display_data"
    },
    {
     "data": {
      "text/html": [
       "Syncing run <strong><a href=\"https://wandb.ai/chainyo-mleng/docugan/runs/22s6fomg\" target=\"_blank\">comfy-fire-84</a></strong> to <a href=\"https://wandb.ai/chainyo-mleng/docugan\" target=\"_blank\">Weights & Biases</a> (<a href=\"https://wandb.me/run\" target=\"_blank\">docs</a>)<br/>"
      ],
      "text/plain": [
       "<IPython.core.display.HTML object>"
      ]
     },
     "metadata": {},
     "output_type": "display_data"
    },
    {
     "name": "stderr",
     "output_type": "stream",
     "text": [
      "/home/chainyo/miniconda3/envs/gan-bird/lib/python3.8/site-packages/pytorch_lightning/trainer/connectors/callback_connector.py:96: LightningDeprecationWarning: Setting `Trainer(progress_bar_refresh_rate=25)` is deprecated in v1.5 and will be removed in v1.7. Please pass `pytorch_lightning.callbacks.progress.TQDMProgressBar` with `refresh_rate` directly to the Trainer's `callbacks` argument instead. Or, to disable the progress bar pass `enable_progress_bar = False` to the Trainer.\n",
      "  rank_zero_deprecation(\n",
      "GPU available: True, used: True\n",
      "TPU available: False, using: 0 TPU cores\n",
      "IPU available: False, using: 0 IPUs\n",
      "HPU available: False, using: 0 HPUs\n",
      "/home/chainyo/miniconda3/envs/gan-bird/lib/python3.8/site-packages/pytorch_lightning/trainer/configuration_validator.py:307: LightningDeprecationWarning: The `LightningModule.on_epoch_end` hook was deprecated in v1.6 and will be removed in v1.8. Please use `LightningModule.on_<train/validation/test>_epoch_end` instead.\n",
      "  rank_zero_deprecation(\n",
      "LOCAL_RANK: 0 - CUDA_VISIBLE_DEVICES: [0]\n",
      "\n",
      "  | Name          | Type          | Params\n",
      "------------------------------------------------\n",
      "0 | criterion     | BCELoss       | 0     \n",
      "1 | generator     | Generator     | 15.2 M\n",
      "2 | discriminator | Discriminator | 11.0 M\n",
      "------------------------------------------------\n",
      "26.2 M    Trainable params\n",
      "0         Non-trainable params\n",
      "26.2 M    Total params\n",
      "104.970   Total estimated model params size (MB)\n"
     ]
    },
    {
     "name": "stdout",
     "output_type": "stream",
     "text": [
      "Epoch 0: 100%|██████████| 90/90 [00:42<00:00,  2.10it/s, loss=3.88, v_num=fomg]"
     ]
    },
    {
     "name": "stderr",
     "output_type": "stream",
     "text": [
      "/home/chainyo/miniconda3/envs/gan-bird/lib/python3.8/site-packages/pytorch_lightning/trainer/trainer.py:2719: UserWarning: Using trainer.logger when Trainer is configured to use multiple loggers. This behavior will change in v1.8 when LoggerCollection is removed, and trainer.logger will return the first logger in trainer.loggers\n",
      "  rank_zero_warn(\n"
     ]
    },
    {
     "name": "stdout",
     "output_type": "stream",
     "text": [
      "Epoch 1: 100%|██████████| 90/90 [01:23<00:00,  1.07it/s, loss=4.08, v_num=fomg]"
     ]
    },
    {
     "name": "stderr",
     "output_type": "stream",
     "text": [
      "/home/chainyo/miniconda3/envs/gan-bird/lib/python3.8/site-packages/pytorch_lightning/trainer/trainer.py:2719: UserWarning: Using trainer.logger when Trainer is configured to use multiple loggers. This behavior will change in v1.8 when LoggerCollection is removed, and trainer.logger will return the first logger in trainer.loggers\n",
      "  rank_zero_warn(\n"
     ]
    },
    {
     "name": "stdout",
     "output_type": "stream",
     "text": [
      "Epoch 2: 100%|██████████| 90/90 [02:04<00:00,  1.38s/it, loss=4.07, v_num=fomg]"
     ]
    },
    {
     "name": "stderr",
     "output_type": "stream",
     "text": [
      "/home/chainyo/miniconda3/envs/gan-bird/lib/python3.8/site-packages/pytorch_lightning/trainer/trainer.py:2719: UserWarning: Using trainer.logger when Trainer is configured to use multiple loggers. This behavior will change in v1.8 when LoggerCollection is removed, and trainer.logger will return the first logger in trainer.loggers\n",
      "  rank_zero_warn(\n"
     ]
    },
    {
     "name": "stdout",
     "output_type": "stream",
     "text": [
      "Epoch 3: 100%|██████████| 90/90 [02:44<00:00,  1.83s/it, loss=4.18, v_num=fomg]"
     ]
    },
    {
     "name": "stderr",
     "output_type": "stream",
     "text": [
      "/home/chainyo/miniconda3/envs/gan-bird/lib/python3.8/site-packages/pytorch_lightning/trainer/trainer.py:2719: UserWarning: Using trainer.logger when Trainer is configured to use multiple loggers. This behavior will change in v1.8 when LoggerCollection is removed, and trainer.logger will return the first logger in trainer.loggers\n",
      "  rank_zero_warn(\n"
     ]
    },
    {
     "name": "stdout",
     "output_type": "stream",
     "text": [
      "Epoch 4: 100%|██████████| 90/90 [03:25<00:00,  2.28s/it, loss=4.21, v_num=fomg]"
     ]
    },
    {
     "name": "stderr",
     "output_type": "stream",
     "text": [
      "/home/chainyo/miniconda3/envs/gan-bird/lib/python3.8/site-packages/pytorch_lightning/trainer/trainer.py:2719: UserWarning: Using trainer.logger when Trainer is configured to use multiple loggers. This behavior will change in v1.8 when LoggerCollection is removed, and trainer.logger will return the first logger in trainer.loggers\n",
      "  rank_zero_warn(\n"
     ]
    },
    {
     "name": "stdout",
     "output_type": "stream",
     "text": [
      "Epoch 5: 100%|██████████| 90/90 [04:05<00:00,  2.73s/it, loss=4.28, v_num=fomg]"
     ]
    },
    {
     "name": "stderr",
     "output_type": "stream",
     "text": [
      "/home/chainyo/miniconda3/envs/gan-bird/lib/python3.8/site-packages/pytorch_lightning/trainer/trainer.py:2719: UserWarning: Using trainer.logger when Trainer is configured to use multiple loggers. This behavior will change in v1.8 when LoggerCollection is removed, and trainer.logger will return the first logger in trainer.loggers\n",
      "  rank_zero_warn(\n"
     ]
    },
    {
     "name": "stdout",
     "output_type": "stream",
     "text": [
      "Epoch 6: 100%|██████████| 90/90 [04:46<00:00,  3.18s/it, loss=4.04, v_num=fomg]"
     ]
    },
    {
     "name": "stderr",
     "output_type": "stream",
     "text": [
      "/home/chainyo/miniconda3/envs/gan-bird/lib/python3.8/site-packages/pytorch_lightning/trainer/trainer.py:2719: UserWarning: Using trainer.logger when Trainer is configured to use multiple loggers. This behavior will change in v1.8 when LoggerCollection is removed, and trainer.logger will return the first logger in trainer.loggers\n",
      "  rank_zero_warn(\n"
     ]
    },
    {
     "name": "stdout",
     "output_type": "stream",
     "text": [
      "Epoch 7: 100%|██████████| 90/90 [05:26<00:00,  3.62s/it, loss=3.08, v_num=fomg]"
     ]
    },
    {
     "name": "stderr",
     "output_type": "stream",
     "text": [
      "/home/chainyo/miniconda3/envs/gan-bird/lib/python3.8/site-packages/pytorch_lightning/trainer/trainer.py:2719: UserWarning: Using trainer.logger when Trainer is configured to use multiple loggers. This behavior will change in v1.8 when LoggerCollection is removed, and trainer.logger will return the first logger in trainer.loggers\n",
      "  rank_zero_warn(\n"
     ]
    },
    {
     "name": "stdout",
     "output_type": "stream",
     "text": [
      "Epoch 8: 100%|██████████| 90/90 [06:06<00:00,  4.07s/it, loss=3.7, v_num=fomg] "
     ]
    },
    {
     "name": "stderr",
     "output_type": "stream",
     "text": [
      "/home/chainyo/miniconda3/envs/gan-bird/lib/python3.8/site-packages/pytorch_lightning/trainer/trainer.py:2719: UserWarning: Using trainer.logger when Trainer is configured to use multiple loggers. This behavior will change in v1.8 when LoggerCollection is removed, and trainer.logger will return the first logger in trainer.loggers\n",
      "  rank_zero_warn(\n"
     ]
    },
    {
     "name": "stdout",
     "output_type": "stream",
     "text": [
      "Epoch 9: 100%|██████████| 90/90 [06:42<00:00,  4.48s/it, loss=3.9, v_num=fomg] "
     ]
    },
    {
     "name": "stderr",
     "output_type": "stream",
     "text": [
      "/home/chainyo/miniconda3/envs/gan-bird/lib/python3.8/site-packages/pytorch_lightning/trainer/trainer.py:2719: UserWarning: Using trainer.logger when Trainer is configured to use multiple loggers. This behavior will change in v1.8 when LoggerCollection is removed, and trainer.logger will return the first logger in trainer.loggers\n",
      "  rank_zero_warn(\n"
     ]
    },
    {
     "name": "stdout",
     "output_type": "stream",
     "text": [
      "Epoch 10: 100%|██████████| 90/90 [07:18<00:00,  4.88s/it, loss=4.18, v_num=fomg]"
     ]
    },
    {
     "name": "stderr",
     "output_type": "stream",
     "text": [
      "/home/chainyo/miniconda3/envs/gan-bird/lib/python3.8/site-packages/pytorch_lightning/trainer/trainer.py:2719: UserWarning: Using trainer.logger when Trainer is configured to use multiple loggers. This behavior will change in v1.8 when LoggerCollection is removed, and trainer.logger will return the first logger in trainer.loggers\n",
      "  rank_zero_warn(\n"
     ]
    },
    {
     "name": "stdout",
     "output_type": "stream",
     "text": [
      "Epoch 11: 100%|██████████| 90/90 [07:54<00:00,  5.28s/it, loss=4.31, v_num=fomg]"
     ]
    },
    {
     "name": "stderr",
     "output_type": "stream",
     "text": [
      "/home/chainyo/miniconda3/envs/gan-bird/lib/python3.8/site-packages/pytorch_lightning/trainer/trainer.py:2719: UserWarning: Using trainer.logger when Trainer is configured to use multiple loggers. This behavior will change in v1.8 when LoggerCollection is removed, and trainer.logger will return the first logger in trainer.loggers\n",
      "  rank_zero_warn(\n"
     ]
    },
    {
     "name": "stdout",
     "output_type": "stream",
     "text": [
      "Epoch 12: 100%|██████████| 90/90 [08:30<00:00,  5.68s/it, loss=4.35, v_num=fomg]"
     ]
    },
    {
     "name": "stderr",
     "output_type": "stream",
     "text": [
      "/home/chainyo/miniconda3/envs/gan-bird/lib/python3.8/site-packages/pytorch_lightning/trainer/trainer.py:2719: UserWarning: Using trainer.logger when Trainer is configured to use multiple loggers. This behavior will change in v1.8 when LoggerCollection is removed, and trainer.logger will return the first logger in trainer.loggers\n",
      "  rank_zero_warn(\n"
     ]
    },
    {
     "name": "stdout",
     "output_type": "stream",
     "text": [
      "Epoch 13: 100%|██████████| 90/90 [09:06<00:00,  6.08s/it, loss=4.68, v_num=fomg]"
     ]
    },
    {
     "name": "stderr",
     "output_type": "stream",
     "text": [
      "/home/chainyo/miniconda3/envs/gan-bird/lib/python3.8/site-packages/pytorch_lightning/trainer/trainer.py:2719: UserWarning: Using trainer.logger when Trainer is configured to use multiple loggers. This behavior will change in v1.8 when LoggerCollection is removed, and trainer.logger will return the first logger in trainer.loggers\n",
      "  rank_zero_warn(\n"
     ]
    },
    {
     "name": "stdout",
     "output_type": "stream",
     "text": [
      "Epoch 14: 100%|██████████| 90/90 [09:43<00:00,  6.48s/it, loss=4.83, v_num=fomg]"
     ]
    },
    {
     "name": "stderr",
     "output_type": "stream",
     "text": [
      "/home/chainyo/miniconda3/envs/gan-bird/lib/python3.8/site-packages/pytorch_lightning/trainer/trainer.py:2719: UserWarning: Using trainer.logger when Trainer is configured to use multiple loggers. This behavior will change in v1.8 when LoggerCollection is removed, and trainer.logger will return the first logger in trainer.loggers\n",
      "  rank_zero_warn(\n"
     ]
    },
    {
     "name": "stdout",
     "output_type": "stream",
     "text": [
      "Epoch 15: 100%|██████████| 90/90 [10:19<00:00,  6.88s/it, loss=4.85, v_num=fomg]"
     ]
    },
    {
     "name": "stderr",
     "output_type": "stream",
     "text": [
      "/home/chainyo/miniconda3/envs/gan-bird/lib/python3.8/site-packages/pytorch_lightning/trainer/trainer.py:2719: UserWarning: Using trainer.logger when Trainer is configured to use multiple loggers. This behavior will change in v1.8 when LoggerCollection is removed, and trainer.logger will return the first logger in trainer.loggers\n",
      "  rank_zero_warn(\n"
     ]
    },
    {
     "name": "stdout",
     "output_type": "stream",
     "text": [
      "Epoch 16: 100%|██████████| 90/90 [10:55<00:00,  7.28s/it, loss=4.89, v_num=fomg]"
     ]
    },
    {
     "name": "stderr",
     "output_type": "stream",
     "text": [
      "/home/chainyo/miniconda3/envs/gan-bird/lib/python3.8/site-packages/pytorch_lightning/trainer/trainer.py:2719: UserWarning: Using trainer.logger when Trainer is configured to use multiple loggers. This behavior will change in v1.8 when LoggerCollection is removed, and trainer.logger will return the first logger in trainer.loggers\n",
      "  rank_zero_warn(\n"
     ]
    },
    {
     "name": "stdout",
     "output_type": "stream",
     "text": [
      "Epoch 17: 100%|██████████| 90/90 [11:31<00:00,  7.68s/it, loss=5.17, v_num=fomg]"
     ]
    },
    {
     "name": "stderr",
     "output_type": "stream",
     "text": [
      "/home/chainyo/miniconda3/envs/gan-bird/lib/python3.8/site-packages/pytorch_lightning/trainer/trainer.py:2719: UserWarning: Using trainer.logger when Trainer is configured to use multiple loggers. This behavior will change in v1.8 when LoggerCollection is removed, and trainer.logger will return the first logger in trainer.loggers\n",
      "  rank_zero_warn(\n"
     ]
    },
    {
     "name": "stdout",
     "output_type": "stream",
     "text": [
      "Epoch 18: 100%|██████████| 90/90 [12:07<00:00,  8.08s/it, loss=5.31, v_num=fomg]"
     ]
    },
    {
     "name": "stderr",
     "output_type": "stream",
     "text": [
      "/home/chainyo/miniconda3/envs/gan-bird/lib/python3.8/site-packages/pytorch_lightning/trainer/trainer.py:2719: UserWarning: Using trainer.logger when Trainer is configured to use multiple loggers. This behavior will change in v1.8 when LoggerCollection is removed, and trainer.logger will return the first logger in trainer.loggers\n",
      "  rank_zero_warn(\n"
     ]
    },
    {
     "name": "stdout",
     "output_type": "stream",
     "text": [
      "Epoch 19: 100%|██████████| 90/90 [12:43<00:00,  8.48s/it, loss=5.39, v_num=fomg]"
     ]
    },
    {
     "name": "stderr",
     "output_type": "stream",
     "text": [
      "/home/chainyo/miniconda3/envs/gan-bird/lib/python3.8/site-packages/pytorch_lightning/trainer/trainer.py:2719: UserWarning: Using trainer.logger when Trainer is configured to use multiple loggers. This behavior will change in v1.8 when LoggerCollection is removed, and trainer.logger will return the first logger in trainer.loggers\n",
      "  rank_zero_warn(\n"
     ]
    },
    {
     "name": "stdout",
     "output_type": "stream",
     "text": [
      "Epoch 20: 100%|██████████| 90/90 [13:19<00:00,  8.88s/it, loss=5.31, v_num=fomg]"
     ]
    },
    {
     "name": "stderr",
     "output_type": "stream",
     "text": [
      "/home/chainyo/miniconda3/envs/gan-bird/lib/python3.8/site-packages/pytorch_lightning/trainer/trainer.py:2719: UserWarning: Using trainer.logger when Trainer is configured to use multiple loggers. This behavior will change in v1.8 when LoggerCollection is removed, and trainer.logger will return the first logger in trainer.loggers\n",
      "  rank_zero_warn(\n"
     ]
    },
    {
     "name": "stdout",
     "output_type": "stream",
     "text": [
      "Epoch 21: 100%|██████████| 90/90 [13:55<00:00,  9.28s/it, loss=4.28, v_num=fomg]"
     ]
    },
    {
     "name": "stderr",
     "output_type": "stream",
     "text": [
      "/home/chainyo/miniconda3/envs/gan-bird/lib/python3.8/site-packages/pytorch_lightning/trainer/trainer.py:2719: UserWarning: Using trainer.logger when Trainer is configured to use multiple loggers. This behavior will change in v1.8 when LoggerCollection is removed, and trainer.logger will return the first logger in trainer.loggers\n",
      "  rank_zero_warn(\n"
     ]
    },
    {
     "name": "stdout",
     "output_type": "stream",
     "text": [
      "Epoch 22: 100%|██████████| 90/90 [14:31<00:00,  9.68s/it, loss=4.96, v_num=fomg]"
     ]
    },
    {
     "name": "stderr",
     "output_type": "stream",
     "text": [
      "/home/chainyo/miniconda3/envs/gan-bird/lib/python3.8/site-packages/pytorch_lightning/trainer/trainer.py:2719: UserWarning: Using trainer.logger when Trainer is configured to use multiple loggers. This behavior will change in v1.8 when LoggerCollection is removed, and trainer.logger will return the first logger in trainer.loggers\n",
      "  rank_zero_warn(\n"
     ]
    },
    {
     "name": "stdout",
     "output_type": "stream",
     "text": [
      "Epoch 23: 100%|██████████| 90/90 [15:07<00:00, 10.08s/it, loss=5.19, v_num=fomg]"
     ]
    },
    {
     "name": "stderr",
     "output_type": "stream",
     "text": [
      "/home/chainyo/miniconda3/envs/gan-bird/lib/python3.8/site-packages/pytorch_lightning/trainer/trainer.py:2719: UserWarning: Using trainer.logger when Trainer is configured to use multiple loggers. This behavior will change in v1.8 when LoggerCollection is removed, and trainer.logger will return the first logger in trainer.loggers\n",
      "  rank_zero_warn(\n"
     ]
    },
    {
     "name": "stdout",
     "output_type": "stream",
     "text": [
      "Epoch 24: 100%|██████████| 90/90 [15:43<00:00, 10.49s/it, loss=4.85, v_num=fomg]"
     ]
    },
    {
     "name": "stderr",
     "output_type": "stream",
     "text": [
      "/home/chainyo/miniconda3/envs/gan-bird/lib/python3.8/site-packages/pytorch_lightning/trainer/trainer.py:2719: UserWarning: Using trainer.logger when Trainer is configured to use multiple loggers. This behavior will change in v1.8 when LoggerCollection is removed, and trainer.logger will return the first logger in trainer.loggers\n",
      "  rank_zero_warn(\n"
     ]
    },
    {
     "name": "stdout",
     "output_type": "stream",
     "text": [
      "Epoch 25: 100%|██████████| 90/90 [16:19<00:00, 10.89s/it, loss=5.28, v_num=fomg]"
     ]
    },
    {
     "name": "stderr",
     "output_type": "stream",
     "text": [
      "/home/chainyo/miniconda3/envs/gan-bird/lib/python3.8/site-packages/pytorch_lightning/trainer/trainer.py:2719: UserWarning: Using trainer.logger when Trainer is configured to use multiple loggers. This behavior will change in v1.8 when LoggerCollection is removed, and trainer.logger will return the first logger in trainer.loggers\n",
      "  rank_zero_warn(\n"
     ]
    },
    {
     "name": "stdout",
     "output_type": "stream",
     "text": [
      "Epoch 26: 100%|██████████| 90/90 [16:55<00:00, 11.29s/it, loss=5.43, v_num=fomg]"
     ]
    },
    {
     "name": "stderr",
     "output_type": "stream",
     "text": [
      "/home/chainyo/miniconda3/envs/gan-bird/lib/python3.8/site-packages/pytorch_lightning/trainer/trainer.py:2719: UserWarning: Using trainer.logger when Trainer is configured to use multiple loggers. This behavior will change in v1.8 when LoggerCollection is removed, and trainer.logger will return the first logger in trainer.loggers\n",
      "  rank_zero_warn(\n"
     ]
    },
    {
     "name": "stdout",
     "output_type": "stream",
     "text": [
      "Epoch 27: 100%|██████████| 90/90 [17:31<00:00, 11.69s/it, loss=5.42, v_num=fomg]"
     ]
    },
    {
     "name": "stderr",
     "output_type": "stream",
     "text": [
      "/home/chainyo/miniconda3/envs/gan-bird/lib/python3.8/site-packages/pytorch_lightning/trainer/trainer.py:2719: UserWarning: Using trainer.logger when Trainer is configured to use multiple loggers. This behavior will change in v1.8 when LoggerCollection is removed, and trainer.logger will return the first logger in trainer.loggers\n",
      "  rank_zero_warn(\n"
     ]
    },
    {
     "name": "stdout",
     "output_type": "stream",
     "text": [
      "Epoch 28: 100%|██████████| 90/90 [18:07<00:00, 12.09s/it, loss=5.39, v_num=fomg]"
     ]
    },
    {
     "name": "stderr",
     "output_type": "stream",
     "text": [
      "/home/chainyo/miniconda3/envs/gan-bird/lib/python3.8/site-packages/pytorch_lightning/trainer/trainer.py:2719: UserWarning: Using trainer.logger when Trainer is configured to use multiple loggers. This behavior will change in v1.8 when LoggerCollection is removed, and trainer.logger will return the first logger in trainer.loggers\n",
      "  rank_zero_warn(\n"
     ]
    },
    {
     "name": "stdout",
     "output_type": "stream",
     "text": [
      "Epoch 29: 100%|██████████| 90/90 [18:44<00:00, 12.49s/it, loss=5.45, v_num=fomg]"
     ]
    },
    {
     "name": "stderr",
     "output_type": "stream",
     "text": [
      "/home/chainyo/miniconda3/envs/gan-bird/lib/python3.8/site-packages/pytorch_lightning/trainer/trainer.py:2719: UserWarning: Using trainer.logger when Trainer is configured to use multiple loggers. This behavior will change in v1.8 when LoggerCollection is removed, and trainer.logger will return the first logger in trainer.loggers\n",
      "  rank_zero_warn(\n"
     ]
    },
    {
     "name": "stdout",
     "output_type": "stream",
     "text": [
      "Epoch 30: 100%|██████████| 90/90 [19:20<00:00, 12.89s/it, loss=5.22, v_num=fomg]"
     ]
    },
    {
     "name": "stderr",
     "output_type": "stream",
     "text": [
      "/home/chainyo/miniconda3/envs/gan-bird/lib/python3.8/site-packages/pytorch_lightning/trainer/trainer.py:2719: UserWarning: Using trainer.logger when Trainer is configured to use multiple loggers. This behavior will change in v1.8 when LoggerCollection is removed, and trainer.logger will return the first logger in trainer.loggers\n",
      "  rank_zero_warn(\n"
     ]
    },
    {
     "name": "stdout",
     "output_type": "stream",
     "text": [
      "Epoch 31: 100%|██████████| 90/90 [19:56<00:00, 13.29s/it, loss=5.68, v_num=fomg]"
     ]
    },
    {
     "name": "stderr",
     "output_type": "stream",
     "text": [
      "/home/chainyo/miniconda3/envs/gan-bird/lib/python3.8/site-packages/pytorch_lightning/trainer/trainer.py:2719: UserWarning: Using trainer.logger when Trainer is configured to use multiple loggers. This behavior will change in v1.8 when LoggerCollection is removed, and trainer.logger will return the first logger in trainer.loggers\n",
      "  rank_zero_warn(\n"
     ]
    },
    {
     "name": "stdout",
     "output_type": "stream",
     "text": [
      "Epoch 32: 100%|██████████| 90/90 [20:32<00:00, 13.69s/it, loss=5.98, v_num=fomg]"
     ]
    },
    {
     "name": "stderr",
     "output_type": "stream",
     "text": [
      "/home/chainyo/miniconda3/envs/gan-bird/lib/python3.8/site-packages/pytorch_lightning/trainer/trainer.py:2719: UserWarning: Using trainer.logger when Trainer is configured to use multiple loggers. This behavior will change in v1.8 when LoggerCollection is removed, and trainer.logger will return the first logger in trainer.loggers\n",
      "  rank_zero_warn(\n"
     ]
    },
    {
     "name": "stdout",
     "output_type": "stream",
     "text": [
      "Epoch 33: 100%|██████████| 90/90 [21:08<00:00, 14.09s/it, loss=6.16, v_num=fomg]"
     ]
    },
    {
     "name": "stderr",
     "output_type": "stream",
     "text": [
      "/home/chainyo/miniconda3/envs/gan-bird/lib/python3.8/site-packages/pytorch_lightning/trainer/trainer.py:2719: UserWarning: Using trainer.logger when Trainer is configured to use multiple loggers. This behavior will change in v1.8 when LoggerCollection is removed, and trainer.logger will return the first logger in trainer.loggers\n",
      "  rank_zero_warn(\n"
     ]
    },
    {
     "name": "stdout",
     "output_type": "stream",
     "text": [
      "Epoch 34: 100%|██████████| 90/90 [21:44<00:00, 14.49s/it, loss=6.24, v_num=fomg]"
     ]
    },
    {
     "name": "stderr",
     "output_type": "stream",
     "text": [
      "/home/chainyo/miniconda3/envs/gan-bird/lib/python3.8/site-packages/pytorch_lightning/trainer/trainer.py:2719: UserWarning: Using trainer.logger when Trainer is configured to use multiple loggers. This behavior will change in v1.8 when LoggerCollection is removed, and trainer.logger will return the first logger in trainer.loggers\n",
      "  rank_zero_warn(\n"
     ]
    },
    {
     "name": "stdout",
     "output_type": "stream",
     "text": [
      "Epoch 35: 100%|██████████| 90/90 [22:20<00:00, 14.89s/it, loss=5.92, v_num=fomg]"
     ]
    },
    {
     "name": "stderr",
     "output_type": "stream",
     "text": [
      "/home/chainyo/miniconda3/envs/gan-bird/lib/python3.8/site-packages/pytorch_lightning/trainer/trainer.py:2719: UserWarning: Using trainer.logger when Trainer is configured to use multiple loggers. This behavior will change in v1.8 when LoggerCollection is removed, and trainer.logger will return the first logger in trainer.loggers\n",
      "  rank_zero_warn(\n"
     ]
    },
    {
     "name": "stdout",
     "output_type": "stream",
     "text": [
      "Epoch 36: 100%|██████████| 90/90 [22:56<00:00, 15.30s/it, loss=5.75, v_num=fomg]"
     ]
    },
    {
     "name": "stderr",
     "output_type": "stream",
     "text": [
      "/home/chainyo/miniconda3/envs/gan-bird/lib/python3.8/site-packages/pytorch_lightning/trainer/trainer.py:2719: UserWarning: Using trainer.logger when Trainer is configured to use multiple loggers. This behavior will change in v1.8 when LoggerCollection is removed, and trainer.logger will return the first logger in trainer.loggers\n",
      "  rank_zero_warn(\n"
     ]
    },
    {
     "name": "stdout",
     "output_type": "stream",
     "text": [
      "Epoch 37: 100%|██████████| 90/90 [23:32<00:00, 15.70s/it, loss=5.84, v_num=fomg]  "
     ]
    },
    {
     "name": "stderr",
     "output_type": "stream",
     "text": [
      "/home/chainyo/miniconda3/envs/gan-bird/lib/python3.8/site-packages/pytorch_lightning/trainer/trainer.py:2719: UserWarning: Using trainer.logger when Trainer is configured to use multiple loggers. This behavior will change in v1.8 when LoggerCollection is removed, and trainer.logger will return the first logger in trainer.loggers\n",
      "  rank_zero_warn(\n"
     ]
    },
    {
     "name": "stdout",
     "output_type": "stream",
     "text": [
      "Epoch 38: 100%|██████████| 90/90 [24:08<00:00, 16.10s/it, loss=5.87, v_num=fomg]  "
     ]
    },
    {
     "name": "stderr",
     "output_type": "stream",
     "text": [
      "/home/chainyo/miniconda3/envs/gan-bird/lib/python3.8/site-packages/pytorch_lightning/trainer/trainer.py:2719: UserWarning: Using trainer.logger when Trainer is configured to use multiple loggers. This behavior will change in v1.8 when LoggerCollection is removed, and trainer.logger will return the first logger in trainer.loggers\n",
      "  rank_zero_warn(\n"
     ]
    },
    {
     "name": "stdout",
     "output_type": "stream",
     "text": [
      "Epoch 39: 100%|██████████| 90/90 [24:44<00:00, 16.50s/it, loss=6.03, v_num=fomg]  "
     ]
    },
    {
     "name": "stderr",
     "output_type": "stream",
     "text": [
      "/home/chainyo/miniconda3/envs/gan-bird/lib/python3.8/site-packages/pytorch_lightning/trainer/trainer.py:2719: UserWarning: Using trainer.logger when Trainer is configured to use multiple loggers. This behavior will change in v1.8 when LoggerCollection is removed, and trainer.logger will return the first logger in trainer.loggers\n",
      "  rank_zero_warn(\n"
     ]
    },
    {
     "name": "stdout",
     "output_type": "stream",
     "text": [
      "Epoch 40: 100%|██████████| 90/90 [25:20<00:00, 16.90s/it, loss=6.15, v_num=fomg]  "
     ]
    },
    {
     "name": "stderr",
     "output_type": "stream",
     "text": [
      "/home/chainyo/miniconda3/envs/gan-bird/lib/python3.8/site-packages/pytorch_lightning/trainer/trainer.py:2719: UserWarning: Using trainer.logger when Trainer is configured to use multiple loggers. This behavior will change in v1.8 when LoggerCollection is removed, and trainer.logger will return the first logger in trainer.loggers\n",
      "  rank_zero_warn(\n"
     ]
    },
    {
     "name": "stdout",
     "output_type": "stream",
     "text": [
      "Epoch 41: 100%|██████████| 90/90 [25:56<00:00, 17.30s/it, loss=6.36, v_num=fomg]  "
     ]
    },
    {
     "name": "stderr",
     "output_type": "stream",
     "text": [
      "/home/chainyo/miniconda3/envs/gan-bird/lib/python3.8/site-packages/pytorch_lightning/trainer/trainer.py:2719: UserWarning: Using trainer.logger when Trainer is configured to use multiple loggers. This behavior will change in v1.8 when LoggerCollection is removed, and trainer.logger will return the first logger in trainer.loggers\n",
      "  rank_zero_warn(\n"
     ]
    },
    {
     "name": "stdout",
     "output_type": "stream",
     "text": [
      "Epoch 42: 100%|██████████| 90/90 [26:36<00:00, 17.74s/it, loss=6.39, v_num=fomg]  "
     ]
    },
    {
     "name": "stderr",
     "output_type": "stream",
     "text": [
      "/home/chainyo/miniconda3/envs/gan-bird/lib/python3.8/site-packages/pytorch_lightning/trainer/trainer.py:2719: UserWarning: Using trainer.logger when Trainer is configured to use multiple loggers. This behavior will change in v1.8 when LoggerCollection is removed, and trainer.logger will return the first logger in trainer.loggers\n",
      "  rank_zero_warn(\n"
     ]
    },
    {
     "name": "stdout",
     "output_type": "stream",
     "text": [
      "Epoch 43: 100%|██████████| 90/90 [26:37<00:00, 17.75s/it, loss=6.39, v_num=fomg]"
     ]
    },
    {
     "name": "stderr",
     "output_type": "stream",
     "text": [
      "/home/chainyo/miniconda3/envs/gan-bird/lib/python3.8/site-packages/pytorch_lightning/trainer/trainer.py:727: UserWarning: Detected KeyboardInterrupt, attempting graceful shutdown...\n",
      "  rank_zero_warn(\"Detected KeyboardInterrupt, attempting graceful shutdown...\")\n"
     ]
    }
   ],
   "source": [
    "seed_everything(42)\n",
    "gpus = 1 if torch.cuda.is_available() else 0\n",
    "\n",
    "tf_logger = TensorBoardLogger(\"logs\", name=\"docugan\")\n",
    "wandb_logger = WandbLogger(project=\"docugan\")\n",
    "\n",
    "model = DocuGAN(hidden_size=img_size, num_channel=1, latent_size=latent_size, batch_size=batch_size)\n",
    "\n",
    "trainer = pl.Trainer(\n",
    "    gpus=gpus,\n",
    "    max_epochs=500,\n",
    "    progress_bar_refresh_rate=25,\n",
    "    logger=[tf_logger, wandb_logger],\n",
    ")\n",
    "trainer.fit(model, train_dataloader)"
   ]
  },
  {
   "cell_type": "code",
   "execution_count": null,
   "metadata": {},
   "outputs": [],
   "source": []
  }
 ],
 "metadata": {
  "interpreter": {
   "hash": "5406f92c8d19fda445423ffdaa7070bacd3ced4c073d12b808912f01e69056e3"
  },
  "kernelspec": {
   "display_name": "Python 3.8.13 ('gan-bird')",
   "language": "python",
   "name": "python3"
  },
  "language_info": {
   "codemirror_mode": {
    "name": "ipython",
    "version": 3
   },
   "file_extension": ".py",
   "mimetype": "text/x-python",
   "name": "python",
   "nbconvert_exporter": "python",
   "pygments_lexer": "ipython3",
   "version": "3.8.13"
  },
  "orig_nbformat": 4
 },
 "nbformat": 4,
 "nbformat_minor": 2
}
